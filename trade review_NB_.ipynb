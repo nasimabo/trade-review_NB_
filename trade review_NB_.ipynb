{
 "cells": [
  {
   "cell_type": "code",
   "execution_count": 1,
   "id": "e30b5f83-75ef-4185-8367-1ca23d3685bf",
   "metadata": {},
   "outputs": [],
   "source": [
    "import pandas as pd\n",
    "import matplotlib.pyplot as plt\n",
    "import numpy as np\n",
    "import seaborn as np"
   ]
  },
  {
   "cell_type": "code",
   "execution_count": 2,
   "id": "ebe4b0c4-dbaf-4c49-ac29-f5d9b78473f8",
   "metadata": {},
   "outputs": [],
   "source": [
    "df = pd.read_csv('ticaret-yorum.csv')"
   ]
  },
  {
   "cell_type": "code",
   "execution_count": 3,
   "id": "cbdf2557-96b0-4354-b1d9-5e9d6d638212",
   "metadata": {},
   "outputs": [
    {
     "data": {
      "text/html": [
       "<div>\n",
       "<style scoped>\n",
       "    .dataframe tbody tr th:only-of-type {\n",
       "        vertical-align: middle;\n",
       "    }\n",
       "\n",
       "    .dataframe tbody tr th {\n",
       "        vertical-align: top;\n",
       "    }\n",
       "\n",
       "    .dataframe thead th {\n",
       "        text-align: right;\n",
       "    }\n",
       "</style>\n",
       "<table border=\"1\" class=\"dataframe\">\n",
       "  <thead>\n",
       "    <tr style=\"text-align: right;\">\n",
       "      <th></th>\n",
       "      <th>category</th>\n",
       "      <th>text</th>\n",
       "    </tr>\n",
       "  </thead>\n",
       "  <tbody>\n",
       "    <tr>\n",
       "      <th>0</th>\n",
       "      <td>alisveris</td>\n",
       "      <td>Altus Hırdavat Yapı Malzemeleri Drone Diye Kar...</td>\n",
       "    </tr>\n",
       "    <tr>\n",
       "      <th>1</th>\n",
       "      <td>alisveris</td>\n",
       "      <td>Albay Bilgisayar Garanti Yalanı İle Yanılttı,G...</td>\n",
       "    </tr>\n",
       "    <tr>\n",
       "      <th>2</th>\n",
       "      <td>alisveris</td>\n",
       "      <td>Okyanus Petshop Ürün İade Sorunu!,Satıcıdan Gi...</td>\n",
       "    </tr>\n",
       "    <tr>\n",
       "      <th>3</th>\n",
       "      <td>alisveris</td>\n",
       "      <td>Anda İhtiyaç Ve Tüketim Maddeleri Knee Tork Di...</td>\n",
       "    </tr>\n",
       "    <tr>\n",
       "      <th>4</th>\n",
       "      <td>alisveris</td>\n",
       "      <td>BB Kargo Dağıtım'dan Aldığım Ürün Bozuk Çıktı ...</td>\n",
       "    </tr>\n",
       "    <tr>\n",
       "      <th>...</th>\n",
       "      <td>...</td>\n",
       "      <td>...</td>\n",
       "    </tr>\n",
       "    <tr>\n",
       "      <th>431301</th>\n",
       "      <td>ulasim</td>\n",
       "      <td>Pegasus Kabin Boyu Bagajım İçin 20 Euro Aldıla...</td>\n",
       "    </tr>\n",
       "    <tr>\n",
       "      <th>431302</th>\n",
       "      <td>ulasim</td>\n",
       "      <td>Pegasus Sefer Saat Değişikliği,\"05.02.2020 tar...</td>\n",
       "    </tr>\n",
       "    <tr>\n",
       "      <th>431303</th>\n",
       "      <td>ulasim</td>\n",
       "      <td>THY Saygısız Müşteri Temsilcisi!,\"THY'den bile...</td>\n",
       "    </tr>\n",
       "    <tr>\n",
       "      <th>431304</th>\n",
       "      <td>ulasim</td>\n",
       "      <td>KLM Havayolları Bilgisizlikleri,Kraliyet firma...</td>\n",
       "    </tr>\n",
       "    <tr>\n",
       "      <th>431305</th>\n",
       "      <td>ulasim</td>\n",
       "      <td>Pegasus Çağrı Merkezi,\"Pegasus internet sayfas...</td>\n",
       "    </tr>\n",
       "  </tbody>\n",
       "</table>\n",
       "<p>431306 rows × 2 columns</p>\n",
       "</div>"
      ],
      "text/plain": [
       "         category                                               text\n",
       "0       alisveris  Altus Hırdavat Yapı Malzemeleri Drone Diye Kar...\n",
       "1       alisveris  Albay Bilgisayar Garanti Yalanı İle Yanılttı,G...\n",
       "2       alisveris  Okyanus Petshop Ürün İade Sorunu!,Satıcıdan Gi...\n",
       "3       alisveris  Anda İhtiyaç Ve Tüketim Maddeleri Knee Tork Di...\n",
       "4       alisveris  BB Kargo Dağıtım'dan Aldığım Ürün Bozuk Çıktı ...\n",
       "...           ...                                                ...\n",
       "431301     ulasim  Pegasus Kabin Boyu Bagajım İçin 20 Euro Aldıla...\n",
       "431302     ulasim  Pegasus Sefer Saat Değişikliği,\"05.02.2020 tar...\n",
       "431303     ulasim  THY Saygısız Müşteri Temsilcisi!,\"THY'den bile...\n",
       "431304     ulasim  KLM Havayolları Bilgisizlikleri,Kraliyet firma...\n",
       "431305     ulasim  Pegasus Çağrı Merkezi,\"Pegasus internet sayfas...\n",
       "\n",
       "[431306 rows x 2 columns]"
      ]
     },
     "execution_count": 3,
     "metadata": {},
     "output_type": "execute_result"
    }
   ],
   "source": [
    "df"
   ]
  },
  {
   "cell_type": "code",
   "execution_count": 10,
   "id": "d37fb2bb-cc0c-4fc0-a802-891570915492",
   "metadata": {},
   "outputs": [
    {
     "name": "stdout",
     "output_type": "stream",
     "text": [
      "<class 'pandas.core.frame.DataFrame'>\n",
      "RangeIndex: 431306 entries, 0 to 431305\n",
      "Data columns (total 2 columns):\n",
      " #   Column    Non-Null Count   Dtype \n",
      "---  ------    --------------   ----- \n",
      " 0   category  431306 non-null  object\n",
      " 1   text      431306 non-null  object\n",
      "dtypes: object(2)\n",
      "memory usage: 6.6+ MB\n"
     ]
    }
   ],
   "source": [
    "df.info()"
   ]
  },
  {
   "cell_type": "code",
   "execution_count": 17,
   "id": "87f036a8-6396-4b58-bfec-9ac65b2a8dfc",
   "metadata": {},
   "outputs": [
    {
     "data": {
      "text/plain": [
       "category    431306\n",
       "text        431306\n",
       "dtype: int64"
      ]
     },
     "execution_count": 17,
     "metadata": {},
     "output_type": "execute_result"
    }
   ],
   "source": [
    "df.count()"
   ]
  },
  {
   "cell_type": "code",
   "execution_count": 5,
   "id": "8310ffe2-3cb8-4b6d-927d-8d024f6caba0",
   "metadata": {},
   "outputs": [],
   "source": [
    "from sklearn.model_selection import train_test_split\n",
    "x_train,x_test,y_train,y_test = train_test_split(df.text,df.category, test_size = 0.2)"
   ]
  },
  {
   "cell_type": "code",
   "execution_count": 8,
   "id": "05662e7f-2b8b-4324-8347-94f88256b822",
   "metadata": {},
   "outputs": [
    {
     "data": {
      "text/plain": [
       "12510     Koçtaş Eksik Gönderilen ve İlgilenilmeyen Ürün...\n",
       "92711     Vestel Televizyon Sorunu Yaşadım,03.01.2020 ta...\n",
       "25760     Bebelac Gold 2 900Gr Lik Paketler Patlak Çıktı...\n",
       "182763    GFK Türkiye Ödeme Yapılmıyor.Mağdurum,Ziraat B...\n",
       "328833    Karaca Züccaciye'de Florence Bardak Takımının ...\n",
       "                                ...                        \n",
       "141970    Ziraat Bankası'nda Yapılandırma,\"4 ay önce 0,7...\n",
       "382110    Macfit'in Problemlere Çözüm Bulamama Yeteneği!...\n",
       "17705     Molfix Bezin Çiş Sızdırması,\"Son 4, 5 aydır al...\n",
       "97637     TOKİ Toki Sorunlarımız Hiçbir Şekilde Çözülmüy...\n",
       "278308    Play Cast Ajans Ücret Talep Edilmeyeceğini Söy...\n",
       "Name: text, Length: 345044, dtype: object"
      ]
     },
     "execution_count": 8,
     "metadata": {},
     "output_type": "execute_result"
    }
   ],
   "source": [
    "x_train"
   ]
  },
  {
   "cell_type": "code",
   "execution_count": 9,
   "id": "e0995d86-6bdf-41dd-8711-831473fad56d",
   "metadata": {},
   "outputs": [
    {
     "data": {
      "text/plain": [
       "array([\"Koçtaş Eksik Gönderilen ve İlgilenilmeyen Ürün,30 Nisan 'da Koçtaş internet sitesinden duvar ünitesi aldığım ürün elimize ulaştı.Paketi açınca bir de ne görelim sadece tahtaları göndermişler . Ürünün montaj ekipmanları ve ayakları yok .Müşteri hizmetlerini aradım. Bir kod verdiler mail atin dediler attım ses çıkmayınca kendi web sayfalarında eks...Devamını oku\",\n",
       "       \"Vestel Televizyon Sorunu Yaşadım,03.01.2020 tarihinde elime ulaşan Vestel marka VESTEL49UD8200 kodlu TV soketten dolayı çalışmıyor. Servis garanti kapsamında olmadığınız dile getiriyor. Benden 480 TL para talep ediyorlar. Daha hiç kullanmadığım TV'ye ekstra para almak nedir. 5 gün olmamış. Bu garanti belgesi neye yarar.Devamını oku\",\n",
       "       'Bebelac Gold 2 900Gr Lik Paketler Patlak Çıktı,Bebeğimiz doğduğundan beri yaklaşık 8 aydır Bebelac Gold kullanıyoruz. En son aldığımız kutunun içindeki mamalar patlak çıktı. Bebelac Gold 2 900 gr lik paket. Kutusunda herhangi bir deforme yoktu ama içindeki mamalar köşesinden patlamış. Böyle bir marka nasıl böyle bir hata yapabiliyor anlamış deği...Devamını oku',\n",
       "       ...,\n",
       "       'Molfix Bezin Çiş Sızdırması,\"Son 4, 5 aydır aldığım 4 numara 136\\'li Molfix paketlerinde hep sorun çıktı. Çocuk her gün sırılsıklam oluyor ve kakası da dışına çıkıyor. Büyük çocuğumda da Molfix kullanmıştım böyle problem olmamıştı.',\n",
       "       'TOKİ Toki Sorunlarımız Hiçbir Şekilde Çözülmüyor!,\"TOKİ Edirne Uzunköprü mescit Mahallesi 99 kişilik 2. Etap konutlarda yönetimden şikayetçiyiz donuyoruz. Asansörlerimiz çalışmıyor. İlgilenmiyorlar. Sorunlarımı site görevlileri çözmüyor. Komşumuzun çocukları ve annem hasta oldu. Bir çözüm üretilsin artık.',\n",
       "       'Play Cast Ajans\\xa0Ücret Talep Edilmeyeceğini Söylediler Fakat\\xa0 Fotoğraflar İçin 300 TL Talep Ettiler,\"Sosyal medyadan reklamı görüp form doldurdum bana geri döndüklerinde ise sordum hiçbir ücret talep edilmeyeceğini söylediler fakat oraya gittiğimde ise katalog fotoğrafları için 300 TL talep ettiler inandım güvenip verdim 1 hafta içinde size geri dönüş yapacağız'],\n",
       "      dtype=object)"
      ]
     },
     "execution_count": 9,
     "metadata": {},
     "output_type": "execute_result"
    }
   ],
   "source": [
    "x_train.values"
   ]
  },
  {
   "cell_type": "code",
   "execution_count": 7,
   "id": "2536f6b5-a9d1-4bf3-91dd-5c1c0ea6681e",
   "metadata": {},
   "outputs": [
    {
     "data": {
      "text/plain": [
       "239351    Sürat Kargo Siparişim Elime Ulaşmadı!,\"N11 sit...\n",
       "126460    Avşar Sinemaları Organizasyon Sıfır!,\"29.12.20...\n",
       "148255    Eti Gıda Sağlığı  Riske Atıyor!,Bebeğime Cici ...\n",
       "184316    Liderler İletişim Check-Up Hizmeti Hakkında!,\"...\n",
       "382561    Mars Athletic Club-Macfit Otomatik Ödeme Talim...\n",
       "                                ...                        \n",
       "51667     Lenovo Bilgisayar Yoga 900 Servis Sorunu,\"Leno...\n",
       "38117     Baymak Garantili Olduğu Halde Servis Ücreti Al...\n",
       "344872    Rent Go Araç Kar Zinciri Ücreti,Online rezerva...\n",
       "151122    Dr. Oetker Jel Koyulaşmıyor Su Gibi,Birkaç tan...\n",
       "163326    Decathlon Garantili Ürün Mağduriyeti,3 ay önce...\n",
       "Name: text, Length: 86262, dtype: object"
      ]
     },
     "execution_count": 7,
     "metadata": {},
     "output_type": "execute_result"
    }
   ],
   "source": [
    "x_test"
   ]
  },
  {
   "cell_type": "code",
   "execution_count": 41,
   "id": "8ea2c10f-e8fe-45b1-8b83-2407bee131e8",
   "metadata": {},
   "outputs": [],
   "source": [
    "from sklearn.feature_extraction.text import CountVectorizer\n",
    "fe = CountVectorizer()\n",
    "x_train_cv = fe.fit_transform(x_train.values)"
   ]
  },
  {
   "cell_type": "code",
   "execution_count": null,
   "id": "06d278d7-16f0-49e0-bf8f-cd9ccd0b2a35",
   "metadata": {},
   "outputs": [],
   "source": []
  },
  {
   "cell_type": "code",
   "execution_count": 44,
   "id": "dd3fc839-d489-49ea-8a9b-8b9ea1f4ea5a",
   "metadata": {},
   "outputs": [
    {
     "data": {
      "text/plain": [
       "array(['00', '000', '0000', ..., 'șubesinden', 'șöyle', 'șıra'],\n",
       "      dtype=object)"
      ]
     },
     "execution_count": 44,
     "metadata": {},
     "output_type": "execute_result"
    }
   ],
   "source": [
    "v.get_feature_names_out()"
   ]
  },
  {
   "cell_type": "code",
   "execution_count": null,
   "id": "52cab402-e201-4f59-b4db-753e1bfacd50",
   "metadata": {},
   "outputs": [],
   "source": []
  },
  {
   "cell_type": "code",
   "execution_count": 46,
   "id": "8f12e2cf-99e9-427d-816f-e0d2c4c9f3a9",
   "metadata": {},
   "outputs": [
    {
     "data": {
      "text/html": [
       "<style>#sk-container-id-2 {color: black;}#sk-container-id-2 pre{padding: 0;}#sk-container-id-2 div.sk-toggleable {background-color: white;}#sk-container-id-2 label.sk-toggleable__label {cursor: pointer;display: block;width: 100%;margin-bottom: 0;padding: 0.3em;box-sizing: border-box;text-align: center;}#sk-container-id-2 label.sk-toggleable__label-arrow:before {content: \"▸\";float: left;margin-right: 0.25em;color: #696969;}#sk-container-id-2 label.sk-toggleable__label-arrow:hover:before {color: black;}#sk-container-id-2 div.sk-estimator:hover label.sk-toggleable__label-arrow:before {color: black;}#sk-container-id-2 div.sk-toggleable__content {max-height: 0;max-width: 0;overflow: hidden;text-align: left;background-color: #f0f8ff;}#sk-container-id-2 div.sk-toggleable__content pre {margin: 0.2em;color: black;border-radius: 0.25em;background-color: #f0f8ff;}#sk-container-id-2 input.sk-toggleable__control:checked~div.sk-toggleable__content {max-height: 200px;max-width: 100%;overflow: auto;}#sk-container-id-2 input.sk-toggleable__control:checked~label.sk-toggleable__label-arrow:before {content: \"▾\";}#sk-container-id-2 div.sk-estimator input.sk-toggleable__control:checked~label.sk-toggleable__label {background-color: #d4ebff;}#sk-container-id-2 div.sk-label input.sk-toggleable__control:checked~label.sk-toggleable__label {background-color: #d4ebff;}#sk-container-id-2 input.sk-hidden--visually {border: 0;clip: rect(1px 1px 1px 1px);clip: rect(1px, 1px, 1px, 1px);height: 1px;margin: -1px;overflow: hidden;padding: 0;position: absolute;width: 1px;}#sk-container-id-2 div.sk-estimator {font-family: monospace;background-color: #f0f8ff;border: 1px dotted black;border-radius: 0.25em;box-sizing: border-box;margin-bottom: 0.5em;}#sk-container-id-2 div.sk-estimator:hover {background-color: #d4ebff;}#sk-container-id-2 div.sk-parallel-item::after {content: \"\";width: 100%;border-bottom: 1px solid gray;flex-grow: 1;}#sk-container-id-2 div.sk-label:hover label.sk-toggleable__label {background-color: #d4ebff;}#sk-container-id-2 div.sk-serial::before {content: \"\";position: absolute;border-left: 1px solid gray;box-sizing: border-box;top: 0;bottom: 0;left: 50%;z-index: 0;}#sk-container-id-2 div.sk-serial {display: flex;flex-direction: column;align-items: center;background-color: white;padding-right: 0.2em;padding-left: 0.2em;position: relative;}#sk-container-id-2 div.sk-item {position: relative;z-index: 1;}#sk-container-id-2 div.sk-parallel {display: flex;align-items: stretch;justify-content: center;background-color: white;position: relative;}#sk-container-id-2 div.sk-item::before, #sk-container-id-2 div.sk-parallel-item::before {content: \"\";position: absolute;border-left: 1px solid gray;box-sizing: border-box;top: 0;bottom: 0;left: 50%;z-index: -1;}#sk-container-id-2 div.sk-parallel-item {display: flex;flex-direction: column;z-index: 1;position: relative;background-color: white;}#sk-container-id-2 div.sk-parallel-item:first-child::after {align-self: flex-end;width: 50%;}#sk-container-id-2 div.sk-parallel-item:last-child::after {align-self: flex-start;width: 50%;}#sk-container-id-2 div.sk-parallel-item:only-child::after {width: 0;}#sk-container-id-2 div.sk-dashed-wrapped {border: 1px dashed gray;margin: 0 0.4em 0.5em 0.4em;box-sizing: border-box;padding-bottom: 0.4em;background-color: white;}#sk-container-id-2 div.sk-label label {font-family: monospace;font-weight: bold;display: inline-block;line-height: 1.2em;}#sk-container-id-2 div.sk-label-container {text-align: center;}#sk-container-id-2 div.sk-container {/* jupyter's `normalize.less` sets `[hidden] { display: none; }` but bootstrap.min.css set `[hidden] { display: none !important; }` so we also need the `!important` here to be able to override the default hidden behavior on the sphinx rendered scikit-learn.org. See: https://github.com/scikit-learn/scikit-learn/issues/21755 */display: inline-block !important;position: relative;}#sk-container-id-2 div.sk-text-repr-fallback {display: none;}</style><div id=\"sk-container-id-2\" class=\"sk-top-container\"><div class=\"sk-text-repr-fallback\"><pre>MultinomialNB()</pre><b>In a Jupyter environment, please rerun this cell to show the HTML representation or trust the notebook. <br />On GitHub, the HTML representation is unable to render, please try loading this page with nbviewer.org.</b></div><div class=\"sk-container\" hidden><div class=\"sk-item\"><div class=\"sk-estimator sk-toggleable\"><input class=\"sk-toggleable__control sk-hidden--visually\" id=\"sk-estimator-id-2\" type=\"checkbox\" checked><label for=\"sk-estimator-id-2\" class=\"sk-toggleable__label sk-toggleable__label-arrow\">MultinomialNB</label><div class=\"sk-toggleable__content\"><pre>MultinomialNB()</pre></div></div></div></div></div>"
      ],
      "text/plain": [
       "MultinomialNB()"
      ]
     },
     "execution_count": 46,
     "metadata": {},
     "output_type": "execute_result"
    }
   ],
   "source": [
    "from sklearn.naive_bayes import MultinomialNB\n",
    "model = MultinomialNB()\n",
    "model.fit(x_train_ex,y_train)"
   ]
  },
  {
   "cell_type": "code",
   "execution_count": 47,
   "id": "7bd4c41d-bbc0-46c3-9fb3-820355e9bcaa",
   "metadata": {},
   "outputs": [],
   "source": [
    "x_test_ex = v.transform(x_test)"
   ]
  },
  {
   "cell_type": "code",
   "execution_count": 48,
   "id": "0d5be4eb-90bf-4b21-a6e7-a35381a0a9c8",
   "metadata": {},
   "outputs": [
    {
     "data": {
      "text/plain": [
       "0.859150031299993"
      ]
     },
     "execution_count": 48,
     "metadata": {},
     "output_type": "execute_result"
    }
   ],
   "source": [
    "model.score(x_test_ex,y_test)"
   ]
  },
  {
   "cell_type": "code",
   "execution_count": 28,
   "id": "d26c77b0-5754-4b38-b68f-efb374cb89f3",
   "metadata": {},
   "outputs": [
    {
     "data": {
      "text/plain": [
       "array(['kargo-nakliyat', 'etkinlik-ve-organizasyon', 'gida', ...,\n",
       "       'otomotiv', 'gida', 'mucevher-saat-gozluk'], dtype='<U25')"
      ]
     },
     "execution_count": 28,
     "metadata": {},
     "output_type": "execute_result"
    }
   ],
   "source": [
    "model.predict(x_test_ex)"
   ]
  }
 ],
 "metadata": {
  "kernelspec": {
   "display_name": "Python 3 (ipykernel)",
   "language": "python",
   "name": "python3"
  },
  "language_info": {
   "codemirror_mode": {
    "name": "ipython",
    "version": 3
   },
   "file_extension": ".py",
   "mimetype": "text/x-python",
   "name": "python",
   "nbconvert_exporter": "python",
   "pygments_lexer": "ipython3",
   "version": "3.10.4"
  }
 },
 "nbformat": 4,
 "nbformat_minor": 5
}
